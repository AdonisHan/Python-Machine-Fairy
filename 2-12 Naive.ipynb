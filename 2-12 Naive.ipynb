{
 "cells": [
  {
   "cell_type": "markdown",
   "metadata": {},
   "source": [
    "# 나이브 베이즈\n",
    "\n",
    "\n",
    "- 타겟 변수  y 의 각 클래스 {C1,⋯,CK}  에 대한 독립 변수  x 의 조건부 확률 분포 정보  p(x∣y=Ck)  를 사용하여 주어진 새로운 독립 변수 값  x에 대한 타켓 변수의 각 클래스의 조건부 확률  p(y=Ck∣x) 를 추정한 후 가장 조건부 확률이 큰 클래스  k 를 선택하는 방법이다.\n",
    "\n",
    "---\n",
    "\n",
    "연속적인 값을 지닌 데이터를 처리 할때, 전형적으로 각 클래스의 연속적인 값들이 가우스 분포를 따른다고 가정한다. \n",
    "\n",
    "smoothing : 분자에 1같은 수를 더하는 것.\n",
    "\n",
    "나이브베이즈의 분류.\n",
    "y가 0일때\n",
    "y가 1일때\n",
    "타원을 그리고 있으면 multivariate 가우시안 정규분포이다. QDA\n",
    "Covariance Mat이 같을 경우 LDA가 된다.\n",
    "나이브베이즈 x1 따소 그려서 히스토그램. mu, sigma값구해서 곱한걸로 어떤 방식이 보인다.\n",
    "\n",
    "---\n",
    "\n",
    "QDA->NB\n",
    "QDA->LBA \n",
    "만차원. x100개= 100만개의 스칼라/숫자/정보/데이터.\n",
    "-Corr mat구하면. 만개 * 만개 = 10^8 억개.\n",
    "-약 1::100으로 정보가 쪼개진다\n",
    "-100만화소라면 10^6 * 10^6 = 10^12\n",
    "-Portfolio Optimization - 수익률 , 주식과 주식의 corr mat - 아무의미가 없다.\n",
    "-너무 많으면 noise. Corr Estimation 이 흔들린다. 숫자가 작다.\n",
    "\n",
    "----\n",
    "나이브  - 1)가우시안 \n",
    "\n",
    "2)베르누이\n",
    "\n",
    "y클래스 별로.\n",
    "x= 0,1 Bern 동전 나온 갯수 / 1이 나온갯수 = theta 추정.\n",
    "x1 = y=1 theta 1 y=0 theta2\n",
    "y = 20, 10000개 -> 20만개 추정.\n",
    "스무딩 - 내가 실제로 구해보니까 5번 던져서 3면이 앞면이 나왔다면 보너스 데이터를 하나씩 나올수 있는 경우(0,1이면 2개) 를 준다. 그래서 7개 중에 4개로 하는거다.1이나 0이란 극단적인 값은 피하기 위해서. 보너스 1이면 알파 1.\n",
    "보너스를 주면 주는만큼\n",
    "----\n",
    "P(x1)~ 식으로 상관관계 없다는 것끼리 쪼개기. 숫자가 하나의 박스에서 (주사위를 던져서 나온1 ,2,3,4,횟수 - 서로 상관관계가 없는것.)에서 나오면 multinomial (n번 던져서) \n",
    "쪼갤때 P(x1,x2,x3,x4) 안째고 theta1,theta2~의 확률을 계산한다. 이중에서 어떤게 더 많이 나올까 알아내는게 multi-norm 분포.\n",
    "\n",
    "x1 = (0,1,2,3) , x2 = (2,5,2,4)\n",
    "x1 = 4면체 주사위인데 1이란게 1번도 안나왔고 2는 1번 3번째 2번 4번째 3번. 주사위는 6번 던져짐.\n",
    "x2 = 10번던짐.\n",
    "x마다 나온횟수(n)이 같을 필요는 없다. 왜냐하면 전체 횟수를 가지고 계산할 것이기때문에.\n",
    "smoothing(가짜 데이터 1,1,1,1) 추가.\n",
    "likelihood 식 구함.\n",
    "multinomial 식 : p(x|y)\n",
    "구하고자 하는것 : p(x|y)*사전.\n",
    "---\n",
    "\n",
    "\n"
   ]
  },
  {
   "cell_type": "code",
   "execution_count": 6,
   "metadata": {},
   "outputs": [],
   "source": [
    "from sklearn.discriminant_analysis import QuadraticDiscriminantAnalysis\n",
    "from sklearn.discriminant_analysis import LinearDiscriminantAnalysis\n",
    "from sklearn.metrics import confusion_matrix, classification_report, roc_curve\n",
    "from sklearn.model_selection import cross_val_score\n",
    "from sklearn.metrics import confusion_matrix\n",
    "from sklearn.datasets import load_iris\n",
    "from sklearn.preprocessing import label_binarize\n",
    "from sklearn import svm, datasets\n",
    "from sklearn.model_selection import train_test_split\n",
    "from sklearn.datasets import make_classification\n",
    "from sklearn.linear_model import LogisticRegression\n",
    "from sklearn.naive_bayes import MultinomialNB\n",
    "from sklearn.naive_bayes import BernoulliNB\n",
    "import statsmodels.api as sm\n",
    "import pandas as pd\n",
    "import seaborn as sns\n",
    "import statsmodels.formula.api as smf\n",
    "import scipy as sp\n",
    "import matplotlib.pyplot as plt\n",
    "import numpy as np\n",
    "import matplotlib.pyplot as plt\n"
   ]
  },
  {
   "cell_type": "code",
   "execution_count": 2,
   "metadata": {},
   "outputs": [
    {
     "name": "stdout",
     "output_type": "stream",
     "text": [
      "[[3 4 1 2]\n",
      " [3 5 1 1]\n",
      " [3 3 0 4]\n",
      " [3 4 1 2]\n",
      " [1 2 1 4]\n",
      " [0 0 5 3]\n",
      " [1 2 4 1]\n",
      " [1 1 4 2]\n",
      " [0 1 2 5]\n",
      " [2 1 2 3]]\n",
      "[0 0 0 0 1 1 1 1 1 1]\n"
     ]
    }
   ],
   "source": [
    "# 다항 분포 나이브 베이즈 모형\n",
    "np.random.seed(0)\n",
    "#주사위 4면 10번\n",
    "X0 = np.random.multinomial(10, [0.3, 0.5, 0.1, 0.1], size=4)\n",
    "#주사위 6면짜리 8번\n",
    "X1 = np.random.multinomial(8, [0.1, 0.1, 0.35, 0.45], size=6)\n",
    "X = np.vstack([X0, X1])\n",
    "y = np.array([0,0,0,0,1,1,1,1,1,1])\n",
    "print(X)\n",
    "print(y)"
   ]
  },
  {
   "cell_type": "code",
   "execution_count": 22,
   "metadata": {},
   "outputs": [
    {
     "data": {
      "text/plain": [
       "array([0, 1])"
      ]
     },
     "execution_count": 22,
     "metadata": {},
     "output_type": "execute_result"
    }
   ],
   "source": [
    "from sklearn.naive_bayes import MultinomialNB\n",
    "from sklearn.naive_bayes import BernoulliNB\n",
    "clf_bern = BernoulliNB().fit(X, y)\n",
    "clf_mult = MultinomialNB().fit(X, y)\n",
    "clf_mult.classes_ #2개 y= 0과 1"
   ]
  },
  {
   "cell_type": "code",
   "execution_count": 14,
   "metadata": {},
   "outputs": [
    {
     "data": {
      "text/plain": [
       "array([ 4.,  6.])"
      ]
     },
     "execution_count": 14,
     "metadata": {},
     "output_type": "execute_result"
    }
   ],
   "source": [
    "clf_mult.class_count_"
   ]
  },
  {
   "cell_type": "code",
   "execution_count": 8,
   "metadata": {},
   "outputs": [
    {
     "data": {
      "text/plain": [
       "array([[ 12.,  16.,   3.,   9.],\n",
       "       [  5.,   7.,  18.,  18.]])"
      ]
     },
     "execution_count": 8,
     "metadata": {},
     "output_type": "execute_result"
    }
   ],
   "source": [
    "clf_mult = MultinomialNB().fit(X,y)\n",
    "# y = 0 or 1\n",
    "clf_mult.classes_\n",
    "# 4면, 6면\n",
    "clf_mult.class_count_\n",
    "# feature 갯수, 분자. 1일때 12개 2일때 16개 등...\n",
    "clf_mult.feature_count_"
   ]
  },
  {
   "cell_type": "code",
   "execution_count": 6,
   "metadata": {},
   "outputs": [
    {
     "data": {
      "text/plain": [
       "array([ 4.,  6.])"
      ]
     },
     "execution_count": 6,
     "metadata": {},
     "output_type": "execute_result"
    }
   ],
   "source": [
    "clf_mult.class_count_ #주사위 면"
   ]
  },
  {
   "cell_type": "code",
   "execution_count": 16,
   "metadata": {},
   "outputs": [
    {
     "data": {
      "text/plain": [
       "array([[ 12.,  16.,   3.,   9.],\n",
       "       [  5.,   7.,  18.,  18.]])"
      ]
     },
     "execution_count": 16,
     "metadata": {},
     "output_type": "execute_result"
    }
   ],
   "source": [
    "# feature 갯수. 분자. feature counts\n",
    "fc = clf_mult.feature_count_\n",
    "fc"
   ]
  },
  {
   "cell_type": "code",
   "execution_count": 14,
   "metadata": {},
   "outputs": [
    {
     "data": {
      "text/plain": [
       "array([[ 0.3       ,  0.4       ,  0.075     ,  0.225     ],\n",
       "       [ 0.10416667,  0.14583333,  0.375     ,  0.375     ]])"
      ]
     },
     "execution_count": 14,
     "metadata": {},
     "output_type": "execute_result"
    }
   ],
   "source": [
    "fc / np.repeat(fc.sum(axis=1)[:, np.newaxis], 4, axis=1)"
   ]
  },
  {
   "cell_type": "code",
   "execution_count": 30,
   "metadata": {},
   "outputs": [
    {
     "data": {
      "text/plain": [
       "array([[ 40.,  40.,  40.,  40.],\n",
       "       [ 48.,  48.,  48.,  48.]])"
      ]
     },
     "execution_count": 30,
     "metadata": {},
     "output_type": "execute_result"
    }
   ],
   "source": [
    "denom = np.repeat(fc.sum(axis = 1)[:, np.newaxis], 4, axis = 1)\n",
    "# 4*10 = 40 / 6*8 = 48\n",
    "# Denominator = denom 분모\n",
    "denom"
   ]
  },
  {
   "cell_type": "code",
   "execution_count": 37,
   "metadata": {},
   "outputs": [
    {
     "data": {
      "text/plain": [
       "array([[ 0.3       ,  0.4       ,  0.075     ,  0.225     ],\n",
       "       [ 0.10416667,  0.14583333,  0.375     ,  0.375     ]])"
      ]
     },
     "execution_count": 37,
     "metadata": {},
     "output_type": "execute_result"
    }
   ],
   "source": [
    "# Pyx = Pxy*Py / Px\n",
    "# Smooth 전.Pyx (나이브베이즈)\n",
    "Pxy = fc\n",
    "Pyx = Pxy / denom\n",
    "Pyx "
   ]
  },
  {
   "cell_type": "code",
   "execution_count": 38,
   "metadata": {},
   "outputs": [
    {
     "data": {
      "text/plain": [
       "1.0"
      ]
     },
     "execution_count": 38,
     "metadata": {},
     "output_type": "execute_result"
    }
   ],
   "source": [
    "#Smooth 하기 위해 alpha 생성 \n",
    "a = clf_mult.alpha\n",
    "a"
   ]
  },
  {
   "cell_type": "code",
   "execution_count": 77,
   "metadata": {},
   "outputs": [
    {
     "data": {
      "text/plain": [
       "array([[ 0.29545455,  0.38636364,  0.09090909,  0.22727273],\n",
       "       [ 0.11538462,  0.15384615,  0.36538462,  0.36538462]])"
      ]
     },
     "execution_count": 77,
     "metadata": {},
     "output_type": "execute_result"
    }
   ],
   "source": [
    "(Pxy + clf_mult.alpha) / \\\n",
    "(np.repeat(fc.sum(axis=1)[:, np.newaxis], 4, axis=1) + \\\n",
    "                          clf_mult.alpha * X.shape[1])"
   ]
  },
  {
   "cell_type": "code",
   "execution_count": 79,
   "metadata": {},
   "outputs": [
    {
     "name": "stdout",
     "output_type": "stream",
     "text": [
      "[[ 13.  17.   4.  10.]\n",
      " [  6.   8.  19.  19.]]\n",
      "[[ 44.  44.  44.  44.]\n",
      " [ 52.  52.  52.  52.]]\n"
     ]
    },
    {
     "data": {
      "text/plain": [
       "array([[ 0.29545455,  0.38636364,  0.09090909,  0.22727273],\n",
       "       [ 0.11538462,  0.15384615,  0.36538462,  0.36538462]])"
      ]
     },
     "execution_count": 79,
     "metadata": {},
     "output_type": "execute_result"
    }
   ],
   "source": [
    "#X.shape[1] = 4\n",
    "Px = denom + a*X.shape[1]\n",
    "Pyx_smooth = Pxy + a / denom + a*X.shape[1]\n",
    "print(Pxy + a)\n",
    "print(Px)\n",
    "# Pyx_smooth = Pxy + a / Px \n",
    "#이지만 백터이기때문에 단순하게 곱셈나눗셈 식으로 연산 못함 .\n",
    "#결론.\n",
    "(Pxy + clf_mult.alpha) / \\\n",
    "(np.repeat(fc.sum(axis=1)[:, np.newaxis], 4, axis=1) + \\\n",
    "                          clf_mult.alpha * X.shape[1])\n"
   ]
  },
  {
   "cell_type": "code",
   "execution_count": 28,
   "metadata": {},
   "outputs": [
    {
     "data": {
      "text/plain": [
       "array([[ 0.29545455,  0.38636364,  0.09090909,  0.22727273],\n",
       "       [ 0.11538462,  0.15384615,  0.36538462,  0.36538462]])"
      ]
     },
     "execution_count": 28,
     "metadata": {},
     "output_type": "execute_result"
    }
   ],
   "source": [
    "# 나이브베이즈.\n",
    "# 단번에 구하기 THETA = Pyx_smooth\n",
    "# clf_mult = MultinomialNB().fit(X,y)\n",
    "theta = np.exp(clf_mult.feature_log_prob_)\n",
    "theta"
   ]
  },
  {
   "cell_type": "code",
   "execution_count": 29,
   "metadata": {},
   "outputs": [
    {
     "data": {
      "text/plain": [
       "array([[ 0.38848858,  0.61151142]])"
      ]
     },
     "execution_count": 29,
     "metadata": {},
     "output_type": "execute_result"
    }
   ],
   "source": [
    "x_new = np.array([10, 10, 10, 10])\n",
    "clf_mult.predict_proba([x_new])"
   ]
  },
  {
   "cell_type": "code",
   "execution_count": 30,
   "metadata": {},
   "outputs": [
    {
     "data": {
      "text/plain": [
       "array([ 0.38848858,  0.61151142])"
      ]
     },
     "execution_count": 30,
     "metadata": {},
     "output_type": "execute_result"
    }
   ],
   "source": [
    "p = (theta**x_new).prod(axis=1)*np.exp(clf_bern.class_log_prior_)\n",
    "p / p.sum()"
   ]
  },
  {
   "cell_type": "code",
   "execution_count": null,
   "metadata": {
    "collapsed": true
   },
   "outputs": [],
   "source": [
    "\n",
    "\n"
   ]
  },
  {
   "cell_type": "code",
   "execution_count": null,
   "metadata": {
    "collapsed": true
   },
   "outputs": [],
   "source": []
  }
 ],
 "metadata": {
  "kernelspec": {
   "display_name": "Python 3",
   "language": "python",
   "name": "python3"
  },
  "language_info": {
   "codemirror_mode": {
    "name": "ipython",
    "version": 3
   },
   "file_extension": ".py",
   "mimetype": "text/x-python",
   "name": "python",
   "nbconvert_exporter": "python",
   "pygments_lexer": "ipython3",
   "version": "3.6.1"
  }
 },
 "nbformat": 4,
 "nbformat_minor": 2
}
