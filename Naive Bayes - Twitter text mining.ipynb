{
 "cells": [
  {
   "cell_type": "code",
   "execution_count": null,
   "metadata": {
    "collapsed": true
   },
   "outputs": [],
   "source": [
    "# 트위터 간단한 텍스트마이닝 분류기법\n",
    "# 작성자 : Fairies / AdonisHan\n",
    "# Naive Bayes 기법\n"
   ]
  },
  {
   "cell_type": "code",
   "execution_count": 30,
   "metadata": {},
   "outputs": [],
   "source": [
    "#import math, sys\n",
    "from konlpy.tag import Twitter\n",
    "import konlpy\n",
    "import bayes"
   ]
  },
  {
   "cell_type": "code",
   "execution_count": 31,
   "metadata": {
    "collapsed": true
   },
   "outputs": [],
   "source": [
    "class BayesianFilter:\n",
    "    def __init__(self):\n",
    "        self.words = set() #출현한 단어 기록\n",
    "        self.word_dict = {} #카테고리마다 출현 횟수 기록\n",
    "        self.category_dict = {} #카테고리 출현 횟수 기록\n",
    "\n",
    "    # 형태소 분석\n",
    "    def split(self, text):\n",
    "        results = []\n",
    "        twitter = Twitter()\n",
    "\n",
    "        #단어의 기본형 사용\n",
    "        malist = twitter.pos(text, norm = True, stem = True)\n",
    "        for word in malist:\n",
    "            #어미, 조사, 구두점 등은 제외하기\n",
    "            if not word[1] in [\"Josa\", \"Eomi\", \"Punctuation\"]:\n",
    "                results.append(word[0])\n",
    "        return results\n",
    "\n",
    "    #단어와 카테고리의 출현 횟수 세기\n",
    "    def inc_word(self, word, category):\n",
    "        #단어를 카테고리에 추가\n",
    "        if not category in self.word_dict:\n",
    "            self.word_dict[category] = {}\n",
    "        if not word in self.word_dict[category]:\n",
    "            self.word_dict[category][word] = 0\n",
    "        self.word_dict[category][word] += 1\n",
    "        self.words.add(word)\n",
    "\n",
    "    def inc_category(self, category):\n",
    "        #카테고리 계산\n",
    "        if not category in self.category_dict:\n",
    "            self.category_dict[category] = 0\n",
    "        self.category_dict[category] += 1\n",
    "\n",
    "    #텍스트 학습하기\n",
    "    def fit(self, text, category):\n",
    "        # 텍스트 학습\n",
    "        word_list = self.split(text)\n",
    "        for word in word_list:\n",
    "            self.inc_word(word, category)\n",
    "        self.inc_category(category)\n",
    "\n",
    "    #단어 리스트에 점수매기기 - log\n",
    "    def score(self, words, category):\n",
    "        score = math.log(self.category_prob(category)) #log화, downflow 예방\n",
    "        for word in words:\n",
    "            score += math.log(self.word_prob(word, category))\n",
    "        return score\n",
    "\n",
    "    #예측\n",
    "    def predict(self, text):\n",
    "        best_category = None\n",
    "        max_score = -sys.maxsize\n",
    "        words = self.split(text)\n",
    "        socre_list = []\n",
    "        for category in self.category_dict.keys():\n",
    "            score = self.score(words, category)\n",
    "            score_list.append((category, score))\n",
    "            if score > max_score:\n",
    "                max_score = score\n",
    "                best_category = category\n",
    "        return best_category, socre_list\n",
    "\n",
    "    # 카테고리 내부의 단어 출현 횟수 구하기\n",
    "    def get_word_count(self, word, category):\n",
    "        if word in self.word_dict[category]:\n",
    "            return self.word_dict[category][word]\n",
    "        else:\n",
    "            return 0\n",
    "\n",
    "    # 카테고리 계산하기\n",
    "    def cateogry_prob(self, category):\n",
    "        sum_categories = sum(self.category_dict.values())\n",
    "        category_v = self.category_dict[category]\n",
    "        return category_v / sum_categories\n",
    "\n",
    "    # 카테고리 내부의 단어 출현 비율 계산\n",
    "    def word_prob(self, word, category):\n",
    "        n = self.get_word_count(word, category) + 1 #smoothing\n",
    "        d = sum(self.word_dict[category].values()) + len(self.words)\n",
    "        return n / d"
   ]
  },
  {
   "cell_type": "code",
   "execution_count": null,
   "metadata": {
    "collapsed": true
   },
   "outputs": [],
   "source": [
    "#NB test\n",
    "bf = BayesianFilter()\n",
    "\n",
    "bf.fit(\"파격 세일 - 오늘까지만 30% 할인\", \"광고\")\n",
    "bf.fit(\"쿠폰 선물\", \"광고\")\n",
    "bf.fit(\"멋진 블루투스 스피커\", \"광고\")\n",
    "bf.fit(\"메세지가 한 건\", \"중요\")\n",
    "bf.fit(\"오늘 일정 9시 회의\", \"중요\")\n",
    "\n",
    "# 예측\n",
    "pre.scorelist = bf.predict(\"세일 할인, 선물\")\n",
    "print(\"결과\", pre)\n",
    "print(scorelist)"
   ]
  },
  {
   "cell_type": "code",
   "execution_count": null,
   "metadata": {
    "collapsed": true
   },
   "outputs": [],
   "source": []
  }
 ],
 "metadata": {
  "kernelspec": {
   "display_name": "Python 3",
   "language": "python",
   "name": "python3"
  },
  "language_info": {
   "codemirror_mode": {
    "name": "ipython",
    "version": 3
   },
   "file_extension": ".py",
   "mimetype": "text/x-python",
   "name": "python",
   "nbconvert_exporter": "python",
   "pygments_lexer": "ipython3",
   "version": "3.6.1"
  }
 },
 "nbformat": 4,
 "nbformat_minor": 2
}
